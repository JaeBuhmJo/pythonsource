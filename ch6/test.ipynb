{
 "cells": [
  {
   "cell_type": "code",
   "execution_count": 4,
   "metadata": {},
   "outputs": [
    {
     "ename": "ZeroDivisionError",
     "evalue": "division by zero",
     "output_type": "error",
     "traceback": [
      "\u001b[1;31m---------------------------------------------------------------------------\u001b[0m",
      "\u001b[1;31mZeroDivisionError\u001b[0m                         Traceback (most recent call last)",
      "Cell \u001b[1;32mIn[4], line 1\u001b[0m\n\u001b[1;32m----> 1\u001b[0m \u001b[39m10\u001b[39;49m\u001b[39m/\u001b[39;49m\u001b[39m0\u001b[39;49m\n",
      "\u001b[1;31mZeroDivisionError\u001b[0m: division by zero"
     ]
    }
   ],
   "source": [
    "10/0"
   ]
  },
  {
   "cell_type": "code",
   "execution_count": 5,
   "metadata": {},
   "outputs": [],
   "source": [
    "x = [10,20,30]"
   ]
  },
  {
   "cell_type": "code",
   "execution_count": 7,
   "metadata": {},
   "outputs": [
    {
     "name": "stdout",
     "output_type": "stream",
     "text": [
      "10\n"
     ]
    },
    {
     "data": {
      "text/plain": [
       "20"
      ]
     },
     "execution_count": 7,
     "metadata": {},
     "output_type": "execute_result"
    }
   ],
   "source": [
    "print(x[0])\n",
    "x[1]"
   ]
  },
  {
   "cell_type": "code",
   "execution_count": 9,
   "metadata": {},
   "outputs": [
    {
     "ename": "ValueError",
     "evalue": "invalid literal for int() with base 10: 'ㅁ'",
     "output_type": "error",
     "traceback": [
      "\u001b[1;31m---------------------------------------------------------------------------\u001b[0m",
      "\u001b[1;31mValueError\u001b[0m                                Traceback (most recent call last)",
      "Cell \u001b[1;32mIn[9], line 1\u001b[0m\n\u001b[1;32m----> 1\u001b[0m number \u001b[39m=\u001b[39m \u001b[39mint\u001b[39;49m(\u001b[39minput\u001b[39;49m(\u001b[39m\"\u001b[39;49m\u001b[39m숫자 입력\u001b[39;49m\u001b[39m\"\u001b[39;49m))\n",
      "\u001b[1;31mValueError\u001b[0m: invalid literal for int() with base 10: 'ㅁ'"
     ]
    }
   ],
   "source": [
    "number = int(input(\"숫자 입력\"))"
   ]
  },
  {
   "cell_type": "code",
   "execution_count": 7,
   "metadata": {},
   "outputs": [
    {
     "name": "stdout",
     "output_type": "stream",
     "text": [
      "10\n",
      "20\n",
      "에러 발생\n"
     ]
    }
   ],
   "source": [
    "try:\n",
    "    x = [10,20,30]\n",
    "    print(x[0])\n",
    "    print(x[1])\n",
    "    print(x[3])\n",
    "except:\n",
    "    print(\"에러 발생\")"
   ]
  },
  {
   "cell_type": "code",
   "execution_count": 12,
   "metadata": {},
   "outputs": [
    {
     "name": "stdout",
     "output_type": "stream",
     "text": [
      "Not Found\n"
     ]
    }
   ],
   "source": [
    "names = [\"Kim\", \"Park\", \"Lee\"]\n",
    "\n",
    "try:\n",
    "    z=\"Let\"\n",
    "    x=names.index(z)\n",
    "    print(f\"{z} Found!! in name{x+1}\")\n",
    "except ValueError:\n",
    "    print(\"Not Found\")"
   ]
  },
  {
   "cell_type": "code",
   "execution_count": 20,
   "metadata": {},
   "outputs": [
    {
     "name": "stdout",
     "output_type": "stream",
     "text": [
      "Not Found\n"
     ]
    }
   ],
   "source": [
    "names = [\"Kim\", \"Park\", \"Lee\"]\n",
    "\n",
    "try:\n",
    "    z=\"Let\"\n",
    "    x=names.index(z)\n",
    "    print(f\"{z} Found!! in name{x+1}\")\n",
    "except Exception:\n",
    "    print(\"Not Found\")"
   ]
  },
  {
   "cell_type": "code",
   "execution_count": 21,
   "metadata": {},
   "outputs": [
    {
     "name": "stdout",
     "output_type": "stream",
     "text": [
      "원 반지름 2\n",
      "원 둘레 12.56\n",
      "원 넓이 12.56\n"
     ]
    }
   ],
   "source": [
    "try:\n",
    "    number_input = int(input(\"정수 입력\"))\n",
    "except:\n",
    "    print(\"입력값을 확인해 주세요\")\n",
    "else:\n",
    "    print(\"원 반지름\", number_input)\n",
    "    print(\"원 둘레\", 2*3.14*number_input)\n",
    "    print(\"원 넓이\", 3.14 * number_input * number_input)"
   ]
  },
  {
   "attachments": {},
   "cell_type": "markdown",
   "metadata": {},
   "source": [
    "#### 파이썬에서 예외 처리 (try 구문. try 단독은 x)\n",
    "    - try ~ except : try(오류 발생 가능 코드) except(예외 발생시 처리 코드)\n",
    "    - try ~ except 오류명:\n",
    "    - try ~ except 오류명 else 오류가 발생하지 않는 경우 처리 코드\n",
    "    - try ~ except ~ else ~ finally : 오류 여부와 상관없이 finally 구문 실행\n",
    "    - try ~ finally"
   ]
  },
  {
   "cell_type": "code",
   "execution_count": null,
   "metadata": {},
   "outputs": [],
   "source": []
  },
  {
   "cell_type": "code",
   "execution_count": 23,
   "metadata": {},
   "outputs": [
    {
     "name": "stdout",
     "output_type": "stream",
     "text": [
      "Lee Found!! in name3\n",
      "OK!! else!!\n",
      "오류와 상관없이 무조건 실행\n"
     ]
    }
   ],
   "source": [
    "names = [\"Kim\", \"Park\", \"Lee\"]\n",
    "\n",
    "try:\n",
    "    z=\"Lee\"\n",
    "    x=names.index(z)\n",
    "    print(f\"{z} Found!! in name{x+1}\")\n",
    "except Exception:\n",
    "    print(\"Not Found\")\n",
    "else:\n",
    "    print(\"OK!! else!!\")\n",
    "finally:\n",
    "    print(\"오류와 상관없이 무조건 실행\")"
   ]
  },
  {
   "cell_type": "code",
   "execution_count": 24,
   "metadata": {},
   "outputs": [
    {
     "name": "stdout",
     "output_type": "stream",
     "text": [
      "10\n",
      "20\n",
      "무조건 실행\n"
     ]
    },
    {
     "ename": "IndexError",
     "evalue": "list index out of range",
     "output_type": "error",
     "traceback": [
      "\u001b[1;31m---------------------------------------------------------------------------\u001b[0m",
      "\u001b[1;31mIndexError\u001b[0m                                Traceback (most recent call last)",
      "Cell \u001b[1;32mIn[24], line 5\u001b[0m\n\u001b[0;32m      3\u001b[0m     \u001b[39mprint\u001b[39m(x[\u001b[39m0\u001b[39m])\n\u001b[0;32m      4\u001b[0m     \u001b[39mprint\u001b[39m(x[\u001b[39m1\u001b[39m])\n\u001b[1;32m----> 5\u001b[0m     \u001b[39mprint\u001b[39m(x[\u001b[39m3\u001b[39;49m])\n\u001b[0;32m      6\u001b[0m \u001b[39mfinally\u001b[39;00m:\n\u001b[0;32m      7\u001b[0m     \u001b[39mprint\u001b[39m(\u001b[39m\"\u001b[39m\u001b[39m무조건 실행\u001b[39m\u001b[39m\"\u001b[39m)\n",
      "\u001b[1;31mIndexError\u001b[0m: list index out of range"
     ]
    }
   ],
   "source": [
    "try:\n",
    "    x = [10,20,30]\n",
    "    print(x[0])\n",
    "    print(x[1])\n",
    "    print(x[3])\n",
    "finally:\n",
    "    print(\"무조건 실행\")"
   ]
  },
  {
   "cell_type": "code",
   "execution_count": 25,
   "metadata": {},
   "outputs": [
    {
     "name": "stdout",
     "output_type": "stream",
     "text": [
      "입력값을 확인해 주세요 invalid literal for int() with base 10: 'a'\n"
     ]
    }
   ],
   "source": [
    "try:\n",
    "    number_input = int(input(\"정수 입력\"))\n",
    "except Exception as e:\n",
    "    print(\"입력값을 확인해 주세요\",e)\n",
    "else:\n",
    "    print(\"원 반지름\", number_input)\n",
    "    print(\"원 둘레\", 2*3.14*number_input)\n",
    "    print(\"원 넓이\", 3.14 * number_input * number_input)"
   ]
  },
  {
   "attachments": {},
   "cell_type": "markdown",
   "metadata": {},
   "source": [
    "### 강제 예외 발생\n",
    "    -raise"
   ]
  },
  {
   "cell_type": "code",
   "execution_count": 26,
   "metadata": {},
   "outputs": [
    {
     "name": "stdout",
     "output_type": "stream",
     "text": [
      "오류 발생\n"
     ]
    }
   ],
   "source": [
    "try:\n",
    "    a = \"333\"\n",
    "    if a == \"Kim\":\n",
    "        print(\"OK!!! 허가\")\n",
    "    else:\n",
    "        raise ValueError\n",
    "except ValueError:\n",
    "    print(\"오류 발생\")\n",
    "except Exception as e :\n",
    "    print(\"다른 오류 발생\",e)\n",
    "else:\n",
    "    print(\"OK!!\")"
   ]
  },
  {
   "cell_type": "code",
   "execution_count": null,
   "metadata": {},
   "outputs": [],
   "source": []
  }
 ],
 "metadata": {
  "kernelspec": {
   "display_name": "pythonsource",
   "language": "python",
   "name": "python3"
  },
  "language_info": {
   "codemirror_mode": {
    "name": "ipython",
    "version": 3
   },
   "file_extension": ".py",
   "mimetype": "text/x-python",
   "name": "python",
   "nbconvert_exporter": "python",
   "pygments_lexer": "ipython3",
   "version": "3.11.4"
  },
  "orig_nbformat": 4
 },
 "nbformat": 4,
 "nbformat_minor": 2
}
