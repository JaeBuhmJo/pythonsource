{
 "cells": [
  {
   "cell_type": "code",
   "execution_count": null,
   "metadata": {},
   "outputs": [],
   "source": [
    "# 데스크탑 자동화 pyautogui, pyperclip,\n",
    "\n",
    "# pip install opencv-python\n",
    "# pip install pyautogui\n"
   ]
  },
  {
   "cell_type": "code",
   "execution_count": 2,
   "metadata": {},
   "outputs": [
    {
     "name": "stdout",
     "output_type": "stream",
     "text": [
      "1920\n",
      "1080\n"
     ]
    }
   ],
   "source": [
    "import pyautogui\n",
    "\n",
    "size = pyautogui.size()\n",
    "print(size[0])\n",
    "print(size[1])"
   ]
  },
  {
   "cell_type": "code",
   "execution_count": 3,
   "metadata": {},
   "outputs": [
    {
     "name": "stdout",
     "output_type": "stream",
     "text": [
      "1422 496\n"
     ]
    }
   ],
   "source": [
    "# 마우스 핸들링\n",
    "import pyautogui as p\n",
    "# 마우스 위치 좌표 구하기\n",
    "position = p.position()\n",
    "print(position.x, position.y)"
   ]
  },
  {
   "cell_type": "code",
   "execution_count": 7,
   "metadata": {},
   "outputs": [],
   "source": [
    "#moveTo(x좌표, y좌표)\n",
    "p.moveTo(100,100,0.5)\n",
    "p.moveTo(200,200,0.5)\n",
    "p.moveTo(300,300,0.5)\n"
   ]
  },
  {
   "cell_type": "code",
   "execution_count": 11,
   "metadata": {},
   "outputs": [
    {
     "name": "stdout",
     "output_type": "stream",
     "text": [
      "Point(x=400, y=400)\n"
     ]
    }
   ],
   "source": [
    "# move(), moveRel() : 상대좌표\n",
    "\n",
    "p.moveTo(300,300,0.25)\n",
    "p.move(100,100,0.25)\n",
    "print(p.position())\n",
    "p.move(200,200,0.25)\n"
   ]
  },
  {
   "cell_type": "code",
   "execution_count": 15,
   "metadata": {},
   "outputs": [
    {
     "name": "stdout",
     "output_type": "stream",
     "text": [
      "Point(x=287, y=64)\n"
     ]
    }
   ],
   "source": [
    "p.sleep(3)\n",
    "print(p.position())\n"
   ]
  },
  {
   "cell_type": "code",
   "execution_count": 18,
   "metadata": {},
   "outputs": [],
   "source": [
    "p.click(287, 64)"
   ]
  },
  {
   "cell_type": "code",
   "execution_count": 19,
   "metadata": {},
   "outputs": [],
   "source": [
    "p.sleep(1)\n",
    "p.click(clicks=2)"
   ]
  },
  {
   "cell_type": "code",
   "execution_count": 20,
   "metadata": {},
   "outputs": [],
   "source": [
    "p.doubleClick(487,142)"
   ]
  },
  {
   "cell_type": "code",
   "execution_count": 21,
   "metadata": {},
   "outputs": [],
   "source": [
    "p.rightClick(500,300)"
   ]
  },
  {
   "cell_type": "code",
   "execution_count": 23,
   "metadata": {},
   "outputs": [],
   "source": [
    "p.sleep(3)\n",
    "p.moveTo(200,200)\n",
    "p.mouseDown()\n",
    "p.moveTo(300,300)\n",
    "p.mouseUp()"
   ]
  },
  {
   "cell_type": "code",
   "execution_count": 24,
   "metadata": {},
   "outputs": [
    {
     "name": "stdout",
     "output_type": "stream",
     "text": [
      "Point(x=271, y=166)\n"
     ]
    }
   ],
   "source": [
    "p.sleep(3)\n",
    "#메모장 타이틀 바 위치 알아내기\n",
    "print(p.position())"
   ]
  },
  {
   "cell_type": "code",
   "execution_count": 29,
   "metadata": {},
   "outputs": [],
   "source": [
    "p.sleep(1)\n",
    "p.moveTo(271,166)\n",
    "p.mouseDown()\n",
    "p.moveTo(1000,1000,0.5)\n",
    "p.mouseUp()"
   ]
  },
  {
   "cell_type": "code",
   "execution_count": 30,
   "metadata": {},
   "outputs": [],
   "source": [
    "p.sleep(3)\n",
    "p.scroll(-1000)"
   ]
  },
  {
   "cell_type": "code",
   "execution_count": 31,
   "metadata": {},
   "outputs": [],
   "source": [
    "p.sleep(3)\n",
    "p.scroll(500)"
   ]
  },
  {
   "cell_type": "code",
   "execution_count": 32,
   "metadata": {},
   "outputs": [],
   "source": [
    "p.mouseInfo()"
   ]
  },
  {
   "cell_type": "code",
   "execution_count": null,
   "metadata": {},
   "outputs": [],
   "source": [
    "for i in range(10):\n",
    "    p.move(100,100)\n",
    "    p.sleep(1)"
   ]
  },
  {
   "cell_type": "code",
   "execution_count": null,
   "metadata": {},
   "outputs": [],
   "source": [
    "p.screenshot(\"screen.png\")"
   ]
  },
  {
   "cell_type": "code",
   "execution_count": 50,
   "metadata": {},
   "outputs": [],
   "source": [
    "p.mouseInfo()\n"
   ]
  },
  {
   "cell_type": "code",
   "execution_count": 51,
   "metadata": {},
   "outputs": [
    {
     "data": {
      "image/jpeg": "[encoded data removed]",
      "image/png": "[encoded data removed]",
      "text/plain": [
       "<PIL.Image.Image image mode=RGB size=100x10>"
      ]
     },
     "execution_count": 51,
     "metadata": {},
     "output_type": "execute_result"
    }
   ],
   "source": [
    "#특정 위치의 스크린 샷\n",
    "p.sleep(3)\n",
    "p.screenshot(\"region.png\", region=(979,308,100,10))"
   ]
  },
  {
   "cell_type": "code",
   "execution_count": 52,
   "metadata": {},
   "outputs": [
    {
     "name": "stdout",
     "output_type": "stream",
     "text": [
      "Box(left=979, top=308, width=100, height=10)\n"
     ]
    }
   ],
   "source": [
    "# locateOnScreen : 이미지의 화면상 좌표 구하기\n",
    "screen_locate = p.locateOnScreen(\"region.png\")\n",
    "print(screen_locate)\n",
    "p.click(screen_locate)"
   ]
  },
  {
   "cell_type": "code",
   "execution_count": 53,
   "metadata": {},
   "outputs": [
    {
     "name": "stdout",
     "output_type": "stream",
     "text": [
      "<Win32Window left=\"90\", top=\"640\", width=\"1520\", height=\"969\", title=\"desktop.ipynb - pythonsource - Visual Studio Code\">\n"
     ]
    }
   ],
   "source": [
    "# 현재 활성화된 창\n",
    "active_window = p.getActiveWindow()\n",
    "print(active_window)"
   ]
  },
  {
   "cell_type": "code",
   "execution_count": 55,
   "metadata": {},
   "outputs": [
    {
     "name": "stdout",
     "output_type": "stream",
     "text": [
      "타이틀 ● desktop.ipynb - pythonsource - Visual Studio Code\n",
      "크기 Size(width=1551, height=969)\n",
      "227 132 1778 1101\n"
     ]
    }
   ],
   "source": [
    "print(\"타이틀\",active_window.title)\n",
    "print(\"크기\",active_window.size)\n",
    "print(active_window.left, active_window.top, active_window.right, active_window.bottom)"
   ]
  },
  {
   "cell_type": "code",
   "execution_count": 70,
   "metadata": {},
   "outputs": [
    {
     "name": "stdout",
     "output_type": "stream",
     "text": [
      "<Win32Window left=\"1191\", top=\"82\", width=\"483\", height=\"380\", title=\"제목 없음 - Windows 메모장\">\n"
     ]
    }
   ],
   "source": [
    "w = p.getWindowsWithTitle(\"제목 없음\")[0]\n",
    "print(w)\n",
    "\n",
    "if not w.isActive:\n",
    "    w.activate()\n",
    "\n",
    "p.write(\"write\")\n"
   ]
  },
  {
   "cell_type": "code",
   "execution_count": 64,
   "metadata": {},
   "outputs": [],
   "source": [
    "# if not w.isMaximized:\n",
    "#     w.maximize()\n",
    "\n",
    "if not w.isMinimized:\n",
    "    w.minimize()"
   ]
  },
  {
   "attachments": {},
   "cell_type": "markdown",
   "metadata": {},
   "source": []
  },
  {
   "cell_type": "code",
   "execution_count": 65,
   "metadata": {},
   "outputs": [],
   "source": [
    "w.restore()"
   ]
  },
  {
   "cell_type": "code",
   "execution_count": 66,
   "metadata": {},
   "outputs": [],
   "source": []
  },
  {
   "cell_type": "code",
   "execution_count": null,
   "metadata": {},
   "outputs": [],
   "source": [
    "# 키보드\n",
    "\n",
    "# 메모장 가져오기"
   ]
  },
  {
   "cell_type": "code",
   "execution_count": 8,
   "metadata": {},
   "outputs": [],
   "source": []
  },
  {
   "cell_type": "code",
   "execution_count": 10,
   "metadata": {},
   "outputs": [],
   "source": [
    "w = p.getWindowsWithTitle(\"제목 없음\")[0]\n",
    "w.activate()\n",
    "\n",
    "p.write(\"write\")"
   ]
  },
  {
   "cell_type": "code",
   "execution_count": 15,
   "metadata": {},
   "outputs": [],
   "source": [
    "# pip install pyperclip\n",
    "\n",
    "import pyperclip\n",
    "\n",
    "w = p.getWindowsWithTitle(\"제목 없음\")[0]\n",
    "w.activate()\n",
    "\n",
    "# 클립보드에 복사\n",
    "pyperclip.copy(\"파이썬\")\n",
    "\n",
    "# 클립보드 내용 붙여넣기\n",
    "p.hotkey(\"ctrl\",\"v\")"
   ]
  },
  {
   "cell_type": "code",
   "execution_count": 17,
   "metadata": {},
   "outputs": [],
   "source": [
    "def word_write(text):\n",
    "    pyperclip.copy(text)\n",
    "    p.hotkey(\"ctrl\",\"v\")"
   ]
  },
  {
   "cell_type": "code",
   "execution_count": 19,
   "metadata": {},
   "outputs": [],
   "source": [
    "word_write('abcdedfdfe')\n",
    "word_write('가나다라마마다사')"
   ]
  },
  {
   "cell_type": "code",
   "execution_count": null,
   "metadata": {},
   "outputs": [],
   "source": [
    "w = p.getWindowsWithTitle(\"제목 없음\")[0]\n",
    "w.activate()\n",
    "p.sleep(0.1)\n",
    "p.keyDown(\"shift\")\n",
    "p.press(\"4\")\n",
    "p.keyUp(\"4\")"
   ]
  },
  {
   "cell_type": "code",
   "execution_count": null,
   "metadata": {},
   "outputs": [],
   "source": [
    "import pyperclip as p\n",
    "w = p.getWindowsWithTitle(\"제목 없음\")[0]\n",
    "w.activate()\n",
    "\n",
    "p.keyDown(\"shift\")\n",
    "p.press(\"4\")\n",
    "p.keyUp(\"4\")\n",
    "\n",
    "p.keyDown(\"ctrl\")\n",
    "p.keyDown(\"a\")\n",
    "p.keyUp(\"a\")\n",
    "p.keyUp(\"ctrl\")"
   ]
  }
 ],
 "metadata": {
  "kernelspec": {
   "display_name": "pythonsource",
   "language": "python",
   "name": "python3"
  },
  "language_info": {
   "codemirror_mode": {
    "name": "ipython",
    "version": 3
   },
   "file_extension": ".py",
   "mimetype": "text/x-python",
   "name": "python",
   "nbconvert_exporter": "python",
   "pygments_lexer": "ipython3",
   "version": "3.11.4"
  },
  "orig_nbformat": 4
 },
 "nbformat": 4,
 "nbformat_minor": 2
}
