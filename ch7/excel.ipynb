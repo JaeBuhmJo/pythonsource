{
 "cells": [
  {
   "cell_type": "code",
   "execution_count": 5,
   "metadata": {},
   "outputs": [],
   "source": [
    "# 라이브러리 로드\n",
    "from openpyxl import Workbook"
   ]
  },
  {
   "cell_type": "code",
   "execution_count": 2,
   "metadata": {},
   "outputs": [],
   "source": [
    "wb = Workbook()     # 워크북 객체 생성\n",
    "\n",
    "ws = wb.active      # 활성화된 워크 시트 가져오기\n",
    "ws.title = \"test\"\n",
    "\n",
    "wb.save(\"sample1.xlsx\")\n",
    "wb.close()"
   ]
  },
  {
   "cell_type": "code",
   "execution_count": 3,
   "metadata": {},
   "outputs": [
    {
     "ename": "NameError",
     "evalue": "name 'Workbook' is not defined",
     "output_type": "error",
     "traceback": [
      "\u001b[1;31m---------------------------------------------------------------------------\u001b[0m",
      "\u001b[1;31mNameError\u001b[0m                                 Traceback (most recent call last)",
      "Cell \u001b[1;32mIn[3], line 1\u001b[0m\n\u001b[1;32m----> 1\u001b[0m wb \u001b[39m=\u001b[39m Workbook()\n\u001b[0;32m      3\u001b[0m ws \u001b[39m=\u001b[39m wb\u001b[39m.\u001b[39mcreate_sheet()\n\u001b[0;32m      4\u001b[0m ws\u001b[39m.\u001b[39mtitle \u001b[39m=\u001b[39m \u001b[39m\"\u001b[39m\u001b[39mMySheet\u001b[39m\u001b[39m\"\u001b[39m\n",
      "\u001b[1;31mNameError\u001b[0m: name 'Workbook' is not defined"
     ]
    }
   ],
   "source": [
    "wb = Workbook()\n",
    "\n",
    "ws = wb.create_sheet()\n",
    "ws.title = \"MySheet\"\n",
    "ws.sheet_properties.tabColor = \"ff66ff\"\n",
    "ws2 = wb.create_sheet(\"급여명세\",2)\n",
    "wb.save(\"sample2.xlsx\")\n",
    "\n",
    "sheet1 = wb[\"MySheet\"]\n",
    "sheet1[\"A1\"] = \"Test\"\n",
    "\n",
    "# 생성된 모든 시트의 이름 출력\n",
    "print(wb.sheetnames)\n",
    "\n",
    "target = wb.copy_worksheet(sheet1)\n",
    "target.title = \"Copied Sheet\"\n",
    "\n",
    "print(wb.sheetnames)\n",
    "\n",
    "wb.close()"
   ]
  },
  {
   "cell_type": "code",
   "execution_count": null,
   "metadata": {},
   "outputs": [],
   "source": []
  },
  {
   "cell_type": "code",
   "execution_count": 6,
   "metadata": {},
   "outputs": [
    {
     "name": "stdout",
     "output_type": "stream",
     "text": [
      "['Sheet', 'MySheet', '급여명세']\n",
      "['Sheet', 'MySheet', '급여명세', 'Copied Sheet']\n"
     ]
    }
   ],
   "source": [
    "wb = Workbook()\n",
    "\n",
    "ws = wb.create_sheet()\n",
    "ws.title = \"MySheet\"\n",
    "ws.sheet_properties.tabColor = \"ff66ff\"\n",
    "ws2 = wb.create_sheet(\"급여명세\",2)\n",
    "wb.save(\"sample3.xlsx\")\n",
    "\n",
    "sheet1 = wb[\"MySheet\"]\n",
    "sheet1[\"A1\"] = \"Test\"\n",
    "\n",
    "# 생성된 모든 시트의 이름 출력\n",
    "print(wb.sheetnames)\n",
    "\n",
    "target = wb.copy_worksheet(sheet1)\n",
    "target.title = \"Copied Sheet\"\n",
    "\n",
    "print(wb.sheetnames)\n",
    "\n",
    "wb.close()"
   ]
  },
  {
   "cell_type": "code",
   "execution_count": 9,
   "metadata": {},
   "outputs": [
    {
     "name": "stdout",
     "output_type": "stream",
     "text": [
      "<Cell 'Test'.A2>\n",
      "2\n",
      "<Cell 'Test'.A1>\n"
     ]
    }
   ],
   "source": [
    "from random import *\n",
    "\n",
    "wb = Workbook()\n",
    "ws = wb.active\n",
    "ws.title = \"Test\"\n",
    "\n",
    "ws[\"A1\"] = 1\n",
    "ws[\"A2\"] = 2\n",
    "ws[\"A3\"] = 3\n",
    "\n",
    "# B1 ~ B3 숫자 입력\n",
    "ws[\"B1\"] = 4\n",
    "ws[\"B2\"] = 5\n",
    "ws[\"B3\"] = 6\n",
    "\n",
    "# 특정 셀 정보 출력\n",
    "print(ws[\"A2\"])\n",
    "print(ws[\"A2\"].value)\n",
    "\n",
    "# 셀에 접근하는 두번째 방법\n",
    "# row = 1,2,3, ...\n",
    "# column = A,B, ...\n",
    "\n",
    "# 반복문을 사용해서 랜덤 숫자 채우기\n",
    "for x in range(1,11):\n",
    "    for y in range(1,11):\n",
    "        ws.cell(row=x, column=y, value= randint(0,100))\n",
    "\n",
    "print(ws.cell(row=1, column=1))\n",
    "\n",
    "wb.save(\"sample1.xlsx\")\n",
    "wb.close()"
   ]
  },
  {
   "cell_type": "code",
   "execution_count": null,
   "metadata": {},
   "outputs": [],
   "source": [
    "# 엑셀 파일 불러오기\n",
    "\n",
    "from openpyxl import load_workbook\n",
    "\n",
    "wb = load_workbook(\"sample1.xlsx\")\n",
    "ws = wb.active\n",
    "\n",
    "    # 시트 안에 들어있는 데이터의 갯수를 정확하게 알고 있을 때\n",
    "# for x in range(1,11):\n",
    "#     for y in range(1,11):\n",
    "#         print(ws.cell(row=x, column=y).value, end=\" \")\n",
    "#     print()\n",
    "\n",
    "# max_row / max_column\n",
    "for x in range(1,ws.max_row+1):\n",
    "    for y in range(1,ws.max_column+1):\n",
    "        print(ws.cell(row=x, column=y).value, end=\" \")\n",
    "    print()\n",
    "\n",
    "wb.close()"
   ]
  },
  {
   "cell_type": "code",
   "execution_count": 31,
   "metadata": {},
   "outputs": [
    {
     "name": "stdout",
     "output_type": "stream",
     "text": [
      "영어 58 1 83 83 67 60 63 69 31 79 \n",
      "수학 12 87 1 98 64 71 80 69 0 76 \n",
      "1 58 12 \n",
      "2 1 87 \n",
      "3 83 1 \n",
      "4 83 98 \n",
      "5 67 64 \n",
      "6 60 71 \n"
     ]
    }
   ],
   "source": [
    "from openpyxl import workbook, load_workbook\n",
    "\n",
    "wb = Workbook()\n",
    "ws = wb.active\n",
    "\n",
    "# 리스트 형태로 데이터 삽입\n",
    "# 리스트 [] : 아무거나 담을 수 있음\n",
    "\n",
    "ws.append([\"번호\",\"영어\",\"수학\"])\n",
    "for i in range(1,11):\n",
    "    ws.append([i, randint(0,100), randint(0,100)])\n",
    "\n",
    "# 특정 과목 - 영어 컬럼의 점수 출력\n",
    "# for eng in range(2,12):\n",
    "#     print(ws.cell(row=eng, column=2).value, end=\" \")\n",
    "# for cell in ws[\"B\"]:\n",
    "#     print(cell.value, end=\" \")\n",
    "# print()\n",
    "for cols in ws[\"B:C\"]:\n",
    "    for cell in cols:\n",
    "        print(cell.value, end=\" \")\n",
    "    print()\n",
    "\n",
    "for rows in ws[\"2:7\"]:\n",
    "    for cell in rows:\n",
    "        print(cell.value, end=\" \")\n",
    "    print()\n",
    "\n",
    "# wb.save(\"range.xlsx\")\n",
    "wb.close()"
   ]
  },
  {
   "cell_type": "code",
   "execution_count": 40,
   "metadata": {},
   "outputs": [
    {
     "name": "stdout",
     "output_type": "stream",
     "text": [
      "5 번 학생의 영어 점수는  85 입니다\n",
      "7 번 학생의 영어 점수는  92 입니다\n",
      "9 번 학생의 영어 점수는  88 입니다\n"
     ]
    }
   ],
   "source": [
    "# range.xlsx 읽기\n",
    "wb = load_workbook(\"range.xlsx\")\n",
    "ws = wb.active\n",
    "\n",
    "for row in ws.iter_rows(min_row=2):\n",
    "    if int(row[1].value) > 80:\n",
    "        print(row[0].value,\"번 학생의 영어 점수는 \", row[1].value, \"입니다\")\n",
    "\n",
    "# 영어 과목명을 컴퓨터로 변경 후 새로운 엑셀 파일로 저장\n",
    "for row in ws.iter_rows(max_row=1):\n",
    "    for cell in row:\n",
    "        if cell.value == \"영어\":\n",
    "            cell.value = \"컴퓨터\"\n",
    "\n",
    "wb.save(\"range_modified.xlsx\")\n",
    "wb.close()"
   ]
  },
  {
   "cell_type": "code",
   "execution_count": 48,
   "metadata": {},
   "outputs": [],
   "source": [
    "# 행, 열 삽입\n",
    "\n",
    "wb = load_workbook(\"range.xlsx\")\n",
    "ws = wb.active\n",
    "\n",
    "ws.delete_rows(8)\n",
    "ws.delete_cols(1,2)\n",
    "\n",
    "wb.save(\"range_insert.xlsx\")\n",
    "wb.close()"
   ]
  },
  {
   "cell_type": "code",
   "execution_count": 62,
   "metadata": {},
   "outputs": [],
   "source": [
    "# 차트 작성\n",
    "from openpyxl.chart import BarChart, Reference\n",
    "\n",
    "wb = load_workbook(\"range.xlsx\")\n",
    "ws = wb.active\n",
    "\n",
    "# 범위 지정\n",
    "line_value = Reference(ws, min_row=1, max_row=11, min_col=2, max_col=3)\n",
    "\n",
    "# 차트 종류 지정\n",
    "line_chart = BarChart()\n",
    "# 차트 데이터 추가\n",
    "line_chart.add_data(line_value, titles_from_data=True)\n",
    "\n",
    "ws.add_chart(line_chart, \"E1\")\n",
    "\n",
    "wb.save(\"range_chart.xlsx\")\n",
    "wb.close()"
   ]
  },
  {
   "cell_type": "code",
   "execution_count": 63,
   "metadata": {},
   "outputs": [],
   "source": [
    "# 차트 작성\n",
    "from openpyxl.chart import LineChart, Reference\n",
    "\n",
    "wb = load_workbook(\"range.xlsx\")\n",
    "ws = wb.active\n",
    "\n",
    "# 범위 지정\n",
    "line_value = Reference(ws, min_row=1, max_row=11, min_col=2, max_col=3)\n",
    "\n",
    "# 차트 종류 지정\n",
    "line_chart = LineChart()\n",
    "# 차트 데이터 추가\n",
    "line_chart.add_data(line_value, titles_from_data=True)\n",
    "\n",
    "line_chart.title = \"성적표\"\n",
    "line_chart.style = 20\n",
    "line_chart.y_axis.title = \"점수\"\n",
    "line_chart.x_axis.title = \"번호\"\n",
    "\n",
    "ws.add_chart(line_chart, \"E1\")\n",
    "\n",
    "wb.save(\"line_chart.xlsx\")\n",
    "wb.close()"
   ]
  },
  {
   "cell_type": "code",
   "execution_count": 64,
   "metadata": {},
   "outputs": [],
   "source": [
    "# 셀 서식(너비, 높이, 폰트, 테두리...)\n",
    "\n",
    "from openpyxl.styles import Font, Border, Alignment, PatternFill\n",
    "from openpyxl.styles.borders import Side\n",
    "\n",
    "wb = load_workbook(\"range.xlsx\")\n",
    "ws = wb.active\n",
    "\n",
    "# 셀 너비 줄이기\n",
    "ws.column_dimensions[\"A\"].width = 5\n",
    "\n",
    "# 행 높이 조절\n",
    "ws.row_dimensions[1].height = 50\n",
    "\n",
    "# 특정 셀에 서로 다른 폰트 스타일 적용\n",
    "\n",
    "a1 = ws[\"A1\"]\n",
    "b1 = ws[\"B1\"]\n",
    "c1 = ws[\"C1\"]\n",
    "\n",
    "a1.font = Font(color=\"ff0000\", italic=True, bold=True)\n",
    "b1.font = Font(color=\"cc33ff\", name=\"arial\", strike=True)\n",
    "c1.font = Font(color=\"0000ff\", size=20, underline=\"single\")\n",
    "\n",
    "# 테두리\n",
    "thin_border = Border(left=Side(style=\"thin\"), right=Side(style=\"dashed\"), \n",
    "                     top=Side(style=\"dotted\"), bottom=Side(style=\"double\"))\n",
    "\n",
    "a1.border = thin_border\n",
    "c1.border = thin_border\n",
    "\n",
    "for row in ws.rows:\n",
    "    for cell in row:\n",
    "        cell.alignment = Alignment(horizontal=\"center\", vertical=\"center\")\n",
    "\n",
    "        if cell.column == 1:\n",
    "            continue\n",
    "\n",
    "        # isinstance(값, 타입) : 값이 정해진 타입인지 확인\n",
    "        if isinstance(cell.value, int) and cell.value > 80:\n",
    "            cell.fill = PatternFill(fgColor=\"00ff00\", fill_type=\"solid\")\n",
    "            cell.font = Font(color=\"ff0000\")\n",
    "\n",
    "wb.save(\"range_style.xlsx\")\n",
    "wb.close()"
   ]
  },
  {
   "cell_type": "code",
   "execution_count": 65,
   "metadata": {},
   "outputs": [],
   "source": [
    "# 함수 삽입\n",
    "from datetime import datetime\n",
    "from openpyxl import Workbook\n",
    "\n",
    "wb = Workbook()\n",
    "ws = wb.active\n",
    "\n",
    "# 날짜 넣기\n",
    "ws[\"A1\"] = datetime.today()\n",
    "\n",
    "# 합계 구하기\n",
    "ws[\"A2\"] = \"=sum(1,2,3)\"\n",
    "ws[\"A3\"] = \"=average(1,2,3)\"\n",
    "\n",
    "# 데이터 삽입 후 엑셀 함수 적용\n",
    "ws[\"A4\"] = 10\n",
    "ws[\"A5\"] = 30\n",
    "ws[\"A6\"] = \"=sum(A4:A5)\"\n",
    "\n",
    "wb.save(\"sample_formula.xlsx\")\n",
    "wb.close()"
   ]
  }
 ],
 "metadata": {
  "kernelspec": {
   "display_name": "pythonsource",
   "language": "python",
   "name": "python3"
  },
  "language_info": {
   "codemirror_mode": {
    "name": "ipython",
    "version": 3
   },
   "file_extension": ".py",
   "mimetype": "text/x-python",
   "name": "python",
   "nbconvert_exporter": "python",
   "pygments_lexer": "ipython3",
   "version": "3.11.4"
  },
  "orig_nbformat": 4
 },
 "nbformat": 4,
 "nbformat_minor": 2
}
