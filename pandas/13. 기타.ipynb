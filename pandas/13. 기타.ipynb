{
 "cells": [
  {
   "cell_type": "markdown",
   "id": "ecab4e48",
   "metadata": {},
   "source": [
    "### 데이터 프레임 다른 포맷 형식으로 저장"
   ]
  },
  {
   "cell_type": "markdown",
   "id": "d06f2e0c",
   "metadata": {},
   "source": [
    "<img src=\"https://pandas.pydata.org/docs/_images/02_io_readwrite.svg\">"
   ]
  },
  {
   "cell_type": "code",
   "execution_count": 2,
   "id": "5fdb1316",
   "metadata": {},
   "outputs": [],
   "source": [
    "import pandas as pd"
   ]
  },
  {
   "cell_type": "code",
   "execution_count": 3,
   "id": "cd0756df",
   "metadata": {},
   "outputs": [
    {
     "data": {
      "text/html": [
       "<div>\n",
       "<style scoped>\n",
       "    .dataframe tbody tr th:only-of-type {\n",
       "        vertical-align: middle;\n",
       "    }\n",
       "\n",
       "    .dataframe tbody tr th {\n",
       "        vertical-align: top;\n",
       "    }\n",
       "\n",
       "    .dataframe thead th {\n",
       "        text-align: right;\n",
       "    }\n",
       "</style>\n",
       "<table border=\"1\" class=\"dataframe\">\n",
       "  <thead>\n",
       "    <tr style=\"text-align: right;\">\n",
       "      <th></th>\n",
       "      <th>c0</th>\n",
       "      <th>c1</th>\n",
       "    </tr>\n",
       "  </thead>\n",
       "  <tbody>\n",
       "    <tr>\n",
       "      <th>0</th>\n",
       "      <td>1</td>\n",
       "      <td>4</td>\n",
       "    </tr>\n",
       "    <tr>\n",
       "      <th>1</th>\n",
       "      <td>2</td>\n",
       "      <td>5</td>\n",
       "    </tr>\n",
       "    <tr>\n",
       "      <th>2</th>\n",
       "      <td>3</td>\n",
       "      <td>6</td>\n",
       "    </tr>\n",
       "  </tbody>\n",
       "</table>\n",
       "</div>"
      ],
      "text/plain": [
       "   c0  c1\n",
       "0   1   4\n",
       "1   2   5\n",
       "2   3   6"
      ]
     },
     "execution_count": 3,
     "metadata": {},
     "output_type": "execute_result"
    }
   ],
   "source": [
    "dict_data={\n",
    "    \"c0\":[1,2,3],\n",
    "    \"c1\":[4,5,6]\n",
    "}\n",
    "df = pd.DataFrame(dict_data)\n",
    "df"
   ]
  },
  {
   "cell_type": "code",
   "execution_count": 4,
   "id": "6683ce3f",
   "metadata": {},
   "outputs": [],
   "source": [
    "df.to_csv(\"./df1.csv\",index=False)"
   ]
  },
  {
   "cell_type": "code",
   "execution_count": 17,
   "id": "344457d3",
   "metadata": {},
   "outputs": [],
   "source": [
    "from selenium import webdriver\n",
    "from selenium.webdriver.chrome.service import Service\n",
    "from webdriver_manager.chrome import ChromeDriverManager\n",
    "\n",
    "def set_chrome_driver():\n",
    "    chrome_options = webdriver.ChromeOptions()\n",
    "    # chrome_options.add_argument(\"--start-maximized\")\n",
    "    # --headless : 브라우저는 뜨지 않고 결과만 크롤링해오는 옵션\n",
    "    # chrome_options.add_argument(\"--headless\")\n",
    "    driver = webdriver.Chrome(\n",
    "        service=Service(ChromeDriverManager().install()), options=chrome_options\n",
    "    )\n",
    "    return driver"
   ]
  },
  {
   "cell_type": "markdown",
   "id": "2130694f",
   "metadata": {},
   "source": [
    "### Youtube 댓글 크롤링 후 데이터 프레임 생성"
   ]
  },
  {
   "cell_type": "code",
   "execution_count": 18,
   "id": "b4ebfd79",
   "metadata": {},
   "outputs": [],
   "source": [
    "from bs4 import BeautifulSoup"
   ]
  },
  {
   "cell_type": "code",
   "execution_count": 26,
   "id": "b3a449a9",
   "metadata": {},
   "outputs": [
    {
     "ename": "KeyboardInterrupt",
     "evalue": "",
     "output_type": "error",
     "traceback": [
      "\u001b[1;31m---------------------------------------------------------------------------\u001b[0m",
      "\u001b[1;31mKeyboardInterrupt\u001b[0m                         Traceback (most recent call last)",
      "Cell \u001b[1;32mIn[26], line 12\u001b[0m\n\u001b[0;32m     10\u001b[0m \u001b[39mwhile\u001b[39;00m \u001b[39mTrue\u001b[39;00m:\n\u001b[0;32m     11\u001b[0m     driver\u001b[39m.\u001b[39mexecute_script(\u001b[39m\"\u001b[39m\u001b[39mwindow.scrollTo(0,document.documentElement.scrollHeight)\u001b[39m\u001b[39m\"\u001b[39m)\n\u001b[1;32m---> 12\u001b[0m     time\u001b[39m.\u001b[39msleep(interval)\n\u001b[0;32m     14\u001b[0m     curr_height \u001b[39m=\u001b[39m driver\u001b[39m.\u001b[39mexecute_script(\u001b[39m\"\u001b[39m\u001b[39mreturn document.documentElement.scrollHeight\u001b[39m\u001b[39m\"\u001b[39m)\n\u001b[0;32m     15\u001b[0m     \u001b[39mif\u001b[39;00m curr_height \u001b[39m==\u001b[39m prev_height:\n",
      "\u001b[1;31mKeyboardInterrupt\u001b[0m: "
     ]
    }
   ],
   "source": [
    "import time\n",
    "driver = set_chrome_driver()\n",
    "driver.get(\"https://www.youtube.com/watch?v=HosW0gulISQ\")\n",
    "\n",
    "time.sleep(3)\n",
    "prev_height = driver.execute_script(\"return document.documentElement.scrollHeight\")\n",
    "\n",
    "interval = 1\n",
    "\n",
    "while True:\n",
    "    driver.execute_script(\"window.scrollTo(0,document.documentElement.scrollHeight)\")\n",
    "    time.sleep(interval)\n",
    "\n",
    "    curr_height = driver.execute_script(\"return document.documentElement.scrollHeight\")\n",
    "    if curr_height == prev_height:\n",
    "        break\n",
    "\n",
    "time.sleep(2)\n",
    "soup = BeautifulSoup(driver.page_source,\"lxml\")"
   ]
  },
  {
   "cell_type": "code",
   "execution_count": 27,
   "metadata": {},
   "outputs": [
    {
     "name": "stdout",
     "output_type": "stream",
     "text": [
      "20 20\n"
     ]
    }
   ],
   "source": [
    "\n",
    "author_list = soup.select(\"#author-text > span\")\n",
    "contents = soup.select(\"#content-text\")\n",
    "\n",
    "print(len(author_list), len(contents))"
   ]
  },
  {
   "cell_type": "code",
   "execution_count": 28,
   "id": "f39c7aa1",
   "metadata": {},
   "outputs": [
    {
     "data": {
      "text/html": [
       "<div>\n",
       "<style scoped>\n",
       "    .dataframe tbody tr th:only-of-type {\n",
       "        vertical-align: middle;\n",
       "    }\n",
       "\n",
       "    .dataframe tbody tr th {\n",
       "        vertical-align: top;\n",
       "    }\n",
       "\n",
       "    .dataframe thead th {\n",
       "        text-align: right;\n",
       "    }\n",
       "</style>\n",
       "<table border=\"1\" class=\"dataframe\">\n",
       "  <thead>\n",
       "    <tr style=\"text-align: right;\">\n",
       "      <th></th>\n",
       "      <th>author</th>\n",
       "      <th>comment</th>\n",
       "    </tr>\n",
       "  </thead>\n",
       "  <tbody>\n",
       "    <tr>\n",
       "      <th>0</th>\n",
       "      <td>[\\n              @user-vj4lt5vu2r\\n            ]</td>\n",
       "      <td>[[\"성공한 사람에게는 추억을\"], [\\n], [\"성공할려는 자에게는 용기를\"]]</td>\n",
       "    </tr>\n",
       "    <tr>\n",
       "      <th>1</th>\n",
       "      <td>[\\n              @Jerjeon\\n            ]</td>\n",
       "      <td>[와 진짜 영화 한장면 넣어놓은거 같음..전율이 미쳤음...와...소름돋는다]</td>\n",
       "    </tr>\n",
       "    <tr>\n",
       "      <th>2</th>\n",
       "      <td>[\\n              @user-yz5ti1wp3u\\n            ]</td>\n",
       "      <td>[[데뷔할 때만 해도 20대였던 크리스와 멤버들..], [\\n], [어느덧 벌써 4...</td>\n",
       "    </tr>\n",
       "    <tr>\n",
       "      <th>3</th>\n",
       "      <td>[\\n              @user-hd8vz7ww7w\\n            ]</td>\n",
       "      <td>[진짜 들을 때마다 매순간 빠짐없이 벅차오르는 개미친 노래 .., ㄹㅇ 죽기 전에는...</td>\n",
       "    </tr>\n",
       "    <tr>\n",
       "      <th>4</th>\n",
       "      <td>[\\n              @qjsdurwhk\\n            ]</td>\n",
       "      <td>[10년 넘게 들어도 질리지 않는 명곡...]</td>\n",
       "    </tr>\n",
       "  </tbody>\n",
       "</table>\n",
       "</div>"
      ],
      "text/plain": [
       "                                             author  \\\n",
       "0  [\\n              @user-vj4lt5vu2r\\n            ]   \n",
       "1          [\\n              @Jerjeon\\n            ]   \n",
       "2  [\\n              @user-yz5ti1wp3u\\n            ]   \n",
       "3  [\\n              @user-hd8vz7ww7w\\n            ]   \n",
       "4        [\\n              @qjsdurwhk\\n            ]   \n",
       "\n",
       "                                             comment  \n",
       "0      [[\"성공한 사람에게는 추억을\"], [\\n], [\"성공할려는 자에게는 용기를\"]]  \n",
       "1        [와 진짜 영화 한장면 넣어놓은거 같음..전율이 미쳤음...와...소름돋는다]  \n",
       "2  [[데뷔할 때만 해도 20대였던 크리스와 멤버들..], [\\n], [어느덧 벌써 4...  \n",
       "3  [진짜 들을 때마다 매순간 빠짐없이 벅차오르는 개미친 노래 .., ㄹㅇ 죽기 전에는...  \n",
       "4                          [10년 넘게 들어도 질리지 않는 명곡...]  "
      ]
     },
     "execution_count": 28,
     "metadata": {},
     "output_type": "execute_result"
    }
   ],
   "source": [
    "df = pd.DataFrame({\"author\":author_list, \"comment\":contents})\n",
    "df.head()"
   ]
  },
  {
   "cell_type": "code",
   "execution_count": 29,
   "id": "46349152",
   "metadata": {},
   "outputs": [],
   "source": [
    "df.to_csv(\"./youtube.csv\",index=False)"
   ]
  },
  {
   "cell_type": "code",
   "execution_count": 31,
   "id": "03237cc2",
   "metadata": {},
   "outputs": [],
   "source": [
    "# 태그 제거\n",
    "author_new = []\n",
    "contents_new = []\n",
    "\n",
    "for i in range(len(author_list)):\n",
    "    # 작성자 가져오기\n",
    "    author = author_list[i].text\n",
    "    author = author.replace(\"\\n\",\"\")\n",
    "    author = author.replace(\"\\t\",\"\")\n",
    "    author = author.replace(\"       \",\" \")\n",
    "    author_new.append(author)\n",
    "\n",
    "    content = contents[i].text\n",
    "    content = content.replace(\"\\n\",\"\")\n",
    "    content = content.replace(\"\\t\",\"\")\n",
    "    content = content.replace(\"       \",\" \")\n",
    "    contents_new.append(content)"
   ]
  },
  {
   "cell_type": "code",
   "execution_count": 32,
   "id": "bbbf96c5",
   "metadata": {},
   "outputs": [
    {
     "data": {
      "text/html": [
       "<div>\n",
       "<style scoped>\n",
       "    .dataframe tbody tr th:only-of-type {\n",
       "        vertical-align: middle;\n",
       "    }\n",
       "\n",
       "    .dataframe tbody tr th {\n",
       "        vertical-align: top;\n",
       "    }\n",
       "\n",
       "    .dataframe thead th {\n",
       "        text-align: right;\n",
       "    }\n",
       "</style>\n",
       "<table border=\"1\" class=\"dataframe\">\n",
       "  <thead>\n",
       "    <tr style=\"text-align: right;\">\n",
       "      <th></th>\n",
       "      <th>author</th>\n",
       "      <th>comment</th>\n",
       "    </tr>\n",
       "  </thead>\n",
       "  <tbody>\n",
       "    <tr>\n",
       "      <th>0</th>\n",
       "      <td>@user-vj4lt5vu2r</td>\n",
       "      <td>\"성공한 사람에게는 추억을\"\"성공할려는 자에게는 용기를\"</td>\n",
       "    </tr>\n",
       "    <tr>\n",
       "      <th>1</th>\n",
       "      <td>@Jerjeon</td>\n",
       "      <td>와 진짜 영화 한장면 넣어놓은거 같음..전율이 미쳤음...와...소름돋는다</td>\n",
       "    </tr>\n",
       "    <tr>\n",
       "      <th>2</th>\n",
       "      <td>@user-yz5ti1wp3u</td>\n",
       "      <td>데뷔할 때만 해도 20대였던 크리스와 멤버들..어느덧 벌써 40이 넘어가셨네..진짜...</td>\n",
       "    </tr>\n",
       "    <tr>\n",
       "      <th>3</th>\n",
       "      <td>@user-hd8vz7ww7w</td>\n",
       "      <td>진짜 들을 때마다 매순간 빠짐없이 벅차오르는 개미친 노래 .., ㄹㅇ 죽기 전에는 ...</td>\n",
       "    </tr>\n",
       "    <tr>\n",
       "      <th>4</th>\n",
       "      <td>@qjsdurwhk</td>\n",
       "      <td>10년 넘게 들어도 질리지 않는 명곡...</td>\n",
       "    </tr>\n",
       "  </tbody>\n",
       "</table>\n",
       "</div>"
      ],
      "text/plain": [
       "                     author                                            comment\n",
       "0    @user-vj4lt5vu2r                          \"성공한 사람에게는 추억을\"\"성공할려는 자에게는 용기를\"\n",
       "1            @Jerjeon                와 진짜 영화 한장면 넣어놓은거 같음..전율이 미쳤음...와...소름돋는다\n",
       "2    @user-yz5ti1wp3u        데뷔할 때만 해도 20대였던 크리스와 멤버들..어느덧 벌써 40이 넘어가셨네..진짜...\n",
       "3    @user-hd8vz7ww7w        진짜 들을 때마다 매순간 빠짐없이 벅차오르는 개미친 노래 .., ㄹㅇ 죽기 전에는 ...\n",
       "4          @qjsdurwhk                                  10년 넘게 들어도 질리지 않는 명곡..."
      ]
     },
     "execution_count": 32,
     "metadata": {},
     "output_type": "execute_result"
    }
   ],
   "source": [
    "df = pd.DataFrame({\"author\":author_new, \"comment\":contents_new})\n",
    "df.head()"
   ]
  },
  {
   "cell_type": "code",
   "execution_count": 33,
   "id": "efbd9734",
   "metadata": {},
   "outputs": [],
   "source": [
    "df.to_csv(\"./youtube1.csv\",index=False)"
   ]
  },
  {
   "cell_type": "code",
   "execution_count": null,
   "id": "e3aba1c3",
   "metadata": {},
   "outputs": [],
   "source": []
  },
  {
   "cell_type": "markdown",
   "id": "6a35348d",
   "metadata": {},
   "source": [
    "#### [참고] 전체 스크롤의 크기 확인하기"
   ]
  },
  {
   "cell_type": "code",
   "execution_count": 10,
   "id": "54de3efa",
   "metadata": {},
   "outputs": [
    {
     "name": "stdout",
     "output_type": "stream",
     "text": [
      "body_scrollHeight 0\n",
      "documentElement_scrollHeight 2193\n"
     ]
    }
   ],
   "source": [
    "height = driver.execute_script(\"return document.body.scrollHeight\")\n",
    "print(\"body_scrollHeight\",height)\n",
    "\n",
    "doc_height = driver.execute_script(\"return document.documentElement.scrollHeight\")\n",
    "print(\"documentElement_scrollHeight\",doc_height)\n"
   ]
  },
  {
   "cell_type": "code",
   "execution_count": null,
   "id": "2524f7cc",
   "metadata": {},
   "outputs": [],
   "source": []
  },
  {
   "cell_type": "code",
   "execution_count": null,
   "id": "501cbf8c",
   "metadata": {},
   "outputs": [],
   "source": []
  },
  {
   "cell_type": "code",
   "execution_count": null,
   "id": "e8e185f8",
   "metadata": {},
   "outputs": [],
   "source": []
  },
  {
   "cell_type": "code",
   "execution_count": null,
   "id": "31631591",
   "metadata": {},
   "outputs": [],
   "source": []
  },
  {
   "cell_type": "code",
   "execution_count": null,
   "id": "225690a1",
   "metadata": {},
   "outputs": [],
   "source": []
  },
  {
   "cell_type": "code",
   "execution_count": null,
   "id": "ee050309",
   "metadata": {},
   "outputs": [],
   "source": []
  },
  {
   "cell_type": "code",
   "execution_count": null,
   "id": "e6ea32ef",
   "metadata": {},
   "outputs": [],
   "source": []
  },
  {
   "cell_type": "code",
   "execution_count": null,
   "id": "0852d4bb",
   "metadata": {},
   "outputs": [],
   "source": []
  }
 ],
 "metadata": {
  "kernelspec": {
   "display_name": "Python 3 (ipykernel)",
   "language": "python",
   "name": "python3"
  },
  "language_info": {
   "codemirror_mode": {
    "name": "ipython",
    "version": 3
   },
   "file_extension": ".py",
   "mimetype": "text/x-python",
   "name": "python",
   "nbconvert_exporter": "python",
   "pygments_lexer": "ipython3",
   "version": "3.11.4"
  }
 },
 "nbformat": 4,
 "nbformat_minor": 5
}
