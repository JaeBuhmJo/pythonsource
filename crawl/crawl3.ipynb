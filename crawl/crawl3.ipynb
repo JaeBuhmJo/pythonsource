{
 "cells": [
  {
   "cell_type": "code",
   "execution_count": null,
   "metadata": {},
   "outputs": [],
   "source": [
    "# 요청(requests) : 결과가 html로 넘어오는 경우\n",
    "# html에서 원하는 정보 찾기 => 파싱\n",
    "\n",
    "# BeautifulSoup 라이브러리 사용\n",
    "# pip install beautifulsoup4\n",
    "# parser\n",
    "# 기본 parser : html.parser => 별도 설치 필요 x\n",
    "#               lxml => 설치 필요\n"
   ]
  },
  {
   "cell_type": "code",
   "execution_count": 3,
   "metadata": {},
   "outputs": [
    {
     "name": "stdout",
     "output_type": "stream",
     "text": [
      "<h3 class=\"tit_view\" data-translation=\"true\">금융위원장, 새마을금고에 6000만원 예금…불안감 진화 나서</h3>\n",
      "금융위원장, 새마을금고에 6000만원 예금…불안감 진화 나서\n",
      "금융위원장, 새마을금고에 6000만원 예금…불안감 진화 나서\n",
      "{'class': ['tit_view'], 'data-translation': 'true'}\n"
     ]
    }
   ],
   "source": [
    "import requests\n",
    "from bs4 import BeautifulSoup\n",
    "\n",
    "r = requests.get(\"https://v.daum.net/v/20230707120740023\")\n",
    "\n",
    "soup = BeautifulSoup(r.text,\"lxml\")\n",
    "print(soup.h3)\n",
    "print(soup.h3.string)\n",
    "print(soup.h3.get_text())\n",
    "print(soup.h3.attrs) #h3 태그의 속성 가져오기\n",
    "\n"
   ]
  },
  {
   "cell_type": "code",
   "execution_count": 8,
   "metadata": {},
   "outputs": [
    {
     "name": "stdout",
     "output_type": "stream",
     "text": [
      "<html>\n",
      " <head>\n",
      "  <title>\n",
      "   The Dormouse's story\n",
      "  </title>\n",
      " </head>\n",
      " <body>\n",
      "  <h1>\n",
      "   H1 Area\n",
      "  </h1>\n",
      "  <p class=\"title\">\n",
      "   <b>\n",
      "    The Dormouse's story\n",
      "   </b>\n",
      "  </p>\n",
      "  <p class=\"story\">\n",
      "   Once upon a time there were three little sisters; and their names were\n",
      "   <a class=\"sister\" href=\"http://example.com/elsie\" id=\"link1\">\n",
      "    Elsie\n",
      "   </a>\n",
      "   ,\n",
      "   <a class=\"sister\" href=\"http://example.com/lacie\" id=\"link2\">\n",
      "    Lacie\n",
      "   </a>\n",
      "   and\n",
      "   <a class=\"sister\" href=\"http://example.com/tillie\" id=\"link2\">\n",
      "    Tillie\n",
      "   </a>\n",
      "   ; and they lived at the bottom of a well.\n",
      "  </p>\n",
      "  <p class=\"story\">\n",
      "   ...\n",
      "  </p>\n",
      " </body>\n",
      "</html>\n",
      "\n"
     ]
    }
   ],
   "source": [
    "# story.html\n",
    "\n",
    "with open(\"./story.html\",\"r\") as f:\n",
    "    html = f.read()\n",
    "\n",
    "soup = BeautifulSoup(html,\"html.parser\")\n",
    "print(soup.prettify())"
   ]
  },
  {
   "cell_type": "code",
   "execution_count": 5,
   "metadata": {},
   "outputs": [
    {
     "name": "stdout",
     "output_type": "stream",
     "text": [
      "<title>금융위원장, 새마을금고에 6000만원 예금…불안감 진화 나서</title>\n",
      "금융위원장, 새마을금고에 6000만원 예금…불안감 진화 나서\n",
      "<head data-cloud-area=\"head\">\n",
      "<meta charset=\"utf-8\"/>\n",
      "<meta content=\"IE=edge\" http-equiv=\"X-UA-Compatible\"/>\n",
      "<meta content=\"width=device-width,initial-scale=1,maximum-scale=1,user-scalable=no\" name=\"viewport\"/>\n",
      "<meta content=\"telephone=no\" name=\"format-detection\"/>\n",
      "<meta content=\"unsafe-url\" name=\"referrer\"/>\n",
      "<title>금융위원장, 새마을금고에 6000만원 예금…불안감 진화 나서</title>\n",
      "<link href=\"//t1.daumcdn.net/top/favicon.ico\" rel=\"shortcut icon\"/>\n",
      "<meta content=\"zKWNeh5Jb9\" property=\"mccp:docId\"/>\n",
      "<meta content=\"언론사 뷰\" property=\"og:site_name\"/>\n",
      "<meta content=\"금융위원장, 새마을금고에 6000만원 예금…불안감 진화 나서\" property=\"og:title\"/>\n",
      "<meta content=\"20230707120740\" property=\"og:regDate\"/>\n",
      "<meta content=\"article\" property=\"og:type\"/>\n",
      "<meta content=\"뉴시스\" property=\"og:article:author\"/>\n",
      "<meta content=\"https://v.daum.net/v/20230707120740023\" property=\"og:url\"/>\n",
      "<meta content=\"https://img1.daumcdn.net/thumb/S1200x630/?fname=https://t1.daumcdn.net/news/202307/07/newsis/20230707120740167tecw.jpg\" property=\"og:image\"/>\n",
      "<meta content=\"1200\" property=\"og:image:width\"/>\n",
      "<meta content=\"630\" property=\"og:image:height\"/>\n",
      "<meta content=\"[서울=뉴시스] 김형섭 기자 = 정부가 새마을금고 사태와 관련해 시장 불안 차단에 나선 가운데 김주현 금융위원장도 7일 새마을금고에 예금을 들며 사태 진화에 동참했다. 김 위원장은 이날 오전 정부서울청사에서 취임 1주년 기자간담회를 마친 뒤 종로구 사직동 새마을금고 본점을 방문해 6000만원을 예금했다. 그는 새마을금고를 방문한 고객들과도 만나 불안한\" property=\"og:description\"/>\n",
      "<meta content=\"daumapps://web?url=https%3A%2F%2Fv.daum.net/v/20230707120740023\" property=\"al:android:url\"/>\n",
      "<meta content=\"net.daum.android.daum\" property=\"al:android:package\"/>\n",
      "<meta content=\"다음앱\" property=\"al:android:app_name\"/>\n",
      "<meta content=\"daumapps://web?url=https%3A%2F%2Fv.daum.net/v/20230707120740023\" property=\"al:ios:url\"/>\n",
      "<meta content=\"365494029\" property=\"al:ios:app_store_id\"/>\n",
      "<meta content=\"다음앱\" property=\"al:ios:app_name\"/>\n",
      "<meta content=\"summary_large_image\" property=\"twitter:card\"/>\n",
      "<meta content=\"daumapps://web?url=https%3A%2F%2Fv.daum.net/v/20230707120740023\" property=\"twitter:app:url:googleplay\"/>\n",
      "<meta content=\"net.daum.android.daum\" property=\"twitter:app:id:googleplay\"/>\n",
      "<meta content=\"다음앱\" property=\"twitter:app:name:googleplay\"/>\n",
      "<meta content=\"KR\" property=\"twitter:app:country\"/>\n",
      "<meta content=\"daumapps://web?url=https%3A%2F%2Fv.daum.net/v/20230707120740023\" property=\"twitter:app:url:iphone\"/>\n",
      "<meta content=\"365494029\" property=\"twitter:app:id:iphone\"/>\n",
      "<meta content=\"다음앱\" property=\"twitter:app:name:iphone\"/>\n",
      "<meta content=\"daumapps://web?url=https%3A%2F%2Fv.daum.net/v/20230707120740023\" property=\"twitter:app:url:ipad\"/>\n",
      "<meta content=\"365494029\" property=\"twitter:app:id:ipad\"/>\n",
      "<meta content=\"다음앱\" property=\"twitter:app:name:ipad\"/>\n",
      "</head>\n"
     ]
    }
   ],
   "source": [
    "# 태그를 이용한 정보 찾기\n",
    "\n",
    "# title 태그 찾기\n",
    "print(soup.title)\n",
    "# title 태그가 가지고 있는 내용 찾기\n",
    "print(soup.title.string)\n",
    "# title 태그의 부모 찾기\n",
    "print(soup.title.parent)"
   ]
  },
  {
   "cell_type": "code",
   "execution_count": 9,
   "metadata": {},
   "outputs": [
    {
     "name": "stdout",
     "output_type": "stream",
     "text": [
      "<h1>H1 Area</h1>\n",
      "H1 Area\n"
     ]
    }
   ],
   "source": [
    "print(soup.h1)\n",
    "print(soup.h1.string)"
   ]
  },
  {
   "cell_type": "code",
   "execution_count": 16,
   "metadata": {},
   "outputs": [
    {
     "name": "stdout",
     "output_type": "stream",
     "text": [
      "<p class=\"title\">\n",
      "<b> The Dormouse's story </b>\n",
      "</p>\n",
      "None\n",
      "The Dormouse's story\n",
      "['title']\n"
     ]
    }
   ],
   "source": [
    "print(soup.p)\n",
    "print(soup.string)\n",
    "print(soup.p.get_text().strip())\n",
    "print(soup.p[\"class\"])"
   ]
  },
  {
   "cell_type": "code",
   "execution_count": 19,
   "metadata": {},
   "outputs": [
    {
     "name": "stdout",
     "output_type": "stream",
     "text": [
      "<b> The Dormouse's story </b>\n",
      "The Dormouse's story\n"
     ]
    }
   ],
   "source": [
    "# b 태그 찾기\n",
    "print(soup.b)\n",
    "print(soup.b.string.strip())"
   ]
  },
  {
   "cell_type": "code",
   "execution_count": 20,
   "metadata": {},
   "outputs": [
    {
     "name": "stdout",
     "output_type": "stream",
     "text": [
      "<h1>H1 Area</h1>\n",
      "H1 Area\n"
     ]
    }
   ],
   "source": [
    "# find() : 가장 처음 만나는 태그\n",
    "# find_all() : 모든 태그\n",
    "print(soup.find(\"h1\"))\n",
    "print(soup.find(\"h1\").string)"
   ]
  },
  {
   "cell_type": "code",
   "execution_count": 22,
   "metadata": {},
   "outputs": [
    {
     "name": "stdout",
     "output_type": "stream",
     "text": [
      "<p class=\"story\">\n",
      "      Once upon a time there were three little sisters; and their names were\n",
      "      <a class=\"sister\" href=\"http://example.com/elsie\" id=\"link1\"> Elsie </a>\n",
      "      ,\n",
      "      <a class=\"sister\" href=\"http://example.com/lacie\" id=\"link2\"> Lacie </a>\n",
      "      and\n",
      "      <a class=\"sister\" href=\"http://example.com/tillie\" id=\"link2\"> Tillie </a>\n",
      "      ; and they lived at the bottom of a well.\n",
      "    </p>\n",
      "<p class=\"story\">...</p>\n"
     ]
    }
   ],
   "source": [
    "# 찾은 태그가 하나여도 결과는 무조건 리스트\n",
    "for tag in soup.find_all(\"p\", class_=\"story\"):\n",
    "    print(tag)"
   ]
  },
  {
   "cell_type": "code",
   "execution_count": 30,
   "metadata": {},
   "outputs": [
    {
     "name": "stdout",
     "output_type": "stream",
     "text": [
      "[<a class=\"sister\" href=\"http://example.com/elsie\" id=\"link1\"> Elsie </a>, <a class=\"sister\" href=\"http://example.com/lacie\" id=\"link2\"> Lacie </a>, <a class=\"sister\" href=\"http://example.com/tillie\" id=\"link2\"> Tillie </a>]\n",
      "[<a class=\"sister\" href=\"http://example.com/elsie\" id=\"link1\"> Elsie </a>, <a class=\"sister\" href=\"http://example.com/lacie\" id=\"link2\"> Lacie </a>, <a class=\"sister\" href=\"http://example.com/tillie\" id=\"link2\"> Tillie </a>]\n",
      "http://example.com/elsie\n",
      "http://example.com/lacie\n",
      "http://example.com/tillie\n",
      "[<a class=\"sister\" href=\"http://example.com/elsie\" id=\"link1\"> Elsie </a>, <a class=\"sister\" href=\"http://example.com/lacie\" id=\"link2\"> Lacie </a>]\n",
      "[<a class=\"sister\" href=\"http://example.com/elsie\" id=\"link1\"> Elsie </a>]\n"
     ]
    }
   ],
   "source": [
    "print(soup.find_all(\"a\"))\n",
    "print(soup.find_all(\"a\", class_=\"sister\"))\n",
    "\n",
    "for link in soup.find_all(\"a\"):\n",
    "    print(link.get(\"href\"))\n",
    "\n",
    "print(soup.find_all(\"a\",limit=2))\n",
    "print(soup.find_all(\"a\",string=[\" Elsie \"]))"
   ]
  }
 ],
 "metadata": {
  "kernelspec": {
   "display_name": "pythonsource",
   "language": "python",
   "name": "python3"
  },
  "language_info": {
   "codemirror_mode": {
    "name": "ipython",
    "version": 3
   },
   "file_extension": ".py",
   "mimetype": "text/x-python",
   "name": "python",
   "nbconvert_exporter": "python",
   "pygments_lexer": "ipython3",
   "version": "3.11.4"
  },
  "orig_nbformat": 4
 },
 "nbformat": 4,
 "nbformat_minor": 2
}
